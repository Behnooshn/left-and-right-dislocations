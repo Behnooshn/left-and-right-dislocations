{
  "nbformat": 4,
  "nbformat_minor": 0,
  "metadata": {
    "colab": {
      "provenance": [],
      "authorship_tag": "ABX9TyO7FISYQ9zpaY2Ze+ziICIf",
      "include_colab_link": true
    },
    "kernelspec": {
      "name": "python3",
      "display_name": "Python 3"
    },
    "language_info": {
      "name": "python"
    }
  },
  "cells": [
    {
      "cell_type": "markdown",
      "metadata": {
        "id": "view-in-github",
        "colab_type": "text"
      },
      "source": [
        "<a href=\"https://colab.research.google.com/github/Behnooshn/left-and-right-dislocations/blob/main/RegressionforSpokenData.ipynb\" target=\"_parent\"><img src=\"https://colab.research.google.com/assets/colab-badge.svg\" alt=\"Open In Colab\"/></a>"
      ]
    },
    {
      "cell_type": "markdown",
      "source": [
        "**Google2022SpokenData**"
      ],
      "metadata": {
        "id": "pvqiIU3dbRYQ"
      }
    },
    {
      "cell_type": "code",
      "source": [
        "import pandas as pd\n",
        "import statsmodels.api as sm\n",
        "\n",
        "# load the Excel file into a Pandas dataframe\n",
        "df = pd.read_excel('DataS.xlsx')\n",
        "\n",
        "# convert the 'YES' and 'NO' values in 'cest dislocation' column to 1's and 0's\n",
        "df['cest dislocation'] = df['cest dislocation'].apply(lambda x: 1 if x == 'YES' else 0)\n",
        "\n",
        "# convert the 'copy' and 'no copy' values in 'GoogleAnalysis2022' column to 1's and 0's\n",
        "df['GoogleAnalysis2022'] = df['GoogleAnalysis2022'].apply(lambda x: 1 if x == 'copy' else 0)\n",
        "\n",
        "# fit a logistic regression model\n",
        "model = sm.Logit(df['GoogleAnalysis2022'], sm.add_constant(df[['cest dislocation']])).fit()\n",
        "\n",
        "# print the summary of the model\n",
        "print(model.summary())\n"
      ],
      "metadata": {
        "colab": {
          "base_uri": "https://localhost:8080/"
        },
        "id": "hP2GClpTbHWd",
        "outputId": "057b2bb0-e840-4b11-be89-486691597ec4"
      },
      "execution_count": 14,
      "outputs": [
        {
          "output_type": "stream",
          "name": "stdout",
          "text": [
            "Optimization terminated successfully.\n",
            "         Current function value: 0.659395\n",
            "         Iterations 4\n",
            "                           Logit Regression Results                           \n",
            "==============================================================================\n",
            "Dep. Variable:     GoogleAnalysis2022   No. Observations:                  113\n",
            "Model:                          Logit   Df Residuals:                      111\n",
            "Method:                           MLE   Df Model:                            1\n",
            "Date:                Sat, 29 Apr 2023   Pseudo R-squ.:               0.0006818\n",
            "Time:                        14:30:53   Log-Likelihood:                -74.512\n",
            "converged:                       True   LL-Null:                       -74.562\n",
            "Covariance Type:            nonrobust   LLR p-value:                    0.7498\n",
            "====================================================================================\n",
            "                       coef    std err          z      P>|z|      [0.025      0.975]\n",
            "------------------------------------------------------------------------------------\n",
            "const               -0.5411      0.201     -2.687      0.007      -0.936      -0.146\n",
            "cest dislocation     0.2534      0.790      0.321      0.748      -1.295       1.802\n",
            "====================================================================================\n"
          ]
        }
      ]
    },
    {
      "cell_type": "markdown",
      "source": [
        "**Google2023**"
      ],
      "metadata": {
        "id": "vLm9eg7GbPx2"
      }
    },
    {
      "cell_type": "code",
      "source": [
        "import pandas as pd\n",
        "import statsmodels.api as sm\n",
        "\n",
        "# load the Excel file into a Pandas dataframe\n",
        "df = pd.read_excel('DataS.xlsx')\n",
        "\n",
        "# convert the 'YES' and 'NO' values in 'cest dislocation' column to 1's and 0's\n",
        "df['cest dislocation'] = df['cest dislocation'].apply(lambda x: 1 if x == 'YES' else 0)\n",
        "\n",
        "# convert the 'copy' and 'no copy' values in 'GoogleAnalysis2023' column to 1's and 0's\n",
        "df['GoogleAnalysis2023'] = df['GoogleAnalysis2023'].apply(lambda x: 1 if x == 'copy' else 0)\n",
        "\n",
        "# fit a logistic regression model\n",
        "model = sm.Logit(df['GoogleAnalysis2023'], sm.add_constant(df[['cest dislocation']])).fit()\n",
        "\n",
        "# print the summary of the model\n",
        "print(model.summary())\n"
      ],
      "metadata": {
        "colab": {
          "base_uri": "https://localhost:8080/"
        },
        "id": "acdbj5a-baFn",
        "outputId": "5e14e953-1a17-49de-f627-e1447c29827e"
      },
      "execution_count": 15,
      "outputs": [
        {
          "output_type": "stream",
          "name": "stdout",
          "text": [
            "Optimization terminated successfully.\n",
            "         Current function value: 0.587503\n",
            "         Iterations 5\n",
            "                           Logit Regression Results                           \n",
            "==============================================================================\n",
            "Dep. Variable:     GoogleAnalysis2023   No. Observations:                  113\n",
            "Model:                          Logit   Df Residuals:                      111\n",
            "Method:                           MLE   Df Model:                            1\n",
            "Date:                Sat, 29 Apr 2023   Pseudo R-squ.:               3.626e-05\n",
            "Time:                        14:32:22   Log-Likelihood:                -66.388\n",
            "converged:                       True   LL-Null:                       -66.390\n",
            "Covariance Type:            nonrobust   LLR p-value:                    0.9447\n",
            "====================================================================================\n",
            "                       coef    std err          z      P>|z|      [0.025      0.975]\n",
            "------------------------------------------------------------------------------------\n",
            "const               -0.9765      0.218     -4.482      0.000      -1.404      -0.549\n",
            "cest dislocation     0.0602      0.865      0.070      0.944      -1.634       1.755\n",
            "====================================================================================\n"
          ]
        }
      ]
    },
    {
      "cell_type": "markdown",
      "source": [
        "**DeepL2022**"
      ],
      "metadata": {
        "id": "zbhoCec0bfoH"
      }
    },
    {
      "cell_type": "code",
      "source": [
        "import pandas as pd\n",
        "import statsmodels.api as sm\n",
        "\n",
        "# load the Excel file into a Pandas dataframe\n",
        "df = pd.read_excel('DataS.xlsx')\n",
        "\n",
        "# convert the 'YES' and 'NO' values in 'cest dislocation' column to 1's and 0's\n",
        "df['cest dislocation'] = df['cest dislocation'].apply(lambda x: 1 if x == 'YES' else 0)\n",
        "\n",
        "# convert the 'copy' and 'no copy' values in 'DeepLAnalysis2022' column to 1's and 0's\n",
        "df['DeepLAnalysis2022'] = df['DeepLAnalysis2022'].apply(lambda x: 1 if x == 'copy' else 0)\n",
        "\n",
        "# fit a logistic regression model\n",
        "model = sm.Logit(df['DeepLAnalysis2022'], sm.add_constant(df[['cest dislocation']])).fit()\n",
        "\n",
        "# print the summary of the model\n",
        "print(model.summary())\n"
      ],
      "metadata": {
        "colab": {
          "base_uri": "https://localhost:8080/"
        },
        "id": "E0X62PxEbst_",
        "outputId": "c6512f4f-e6ec-4f9b-9af6-28176fdca413"
      },
      "execution_count": 16,
      "outputs": [
        {
          "output_type": "stream",
          "name": "stdout",
          "text": [
            "Optimization terminated successfully.\n",
            "         Current function value: 0.574610\n",
            "         Iterations 5\n",
            "                           Logit Regression Results                           \n",
            "==============================================================================\n",
            "Dep. Variable:      DeepLAnalysis2022   No. Observations:                  113\n",
            "Model:                          Logit   Df Residuals:                      111\n",
            "Method:                           MLE   Df Model:                            1\n",
            "Date:                Sat, 29 Apr 2023   Pseudo R-squ.:                0.007098\n",
            "Time:                        14:33:27   Log-Likelihood:                -64.931\n",
            "converged:                       True   LL-Null:                       -65.395\n",
            "Covariance Type:            nonrobust   LLR p-value:                    0.3353\n",
            "====================================================================================\n",
            "                       coef    std err          z      P>|z|      [0.025      0.975]\n",
            "------------------------------------------------------------------------------------\n",
            "const               -1.0736      0.223     -4.816      0.000      -1.511      -0.637\n",
            "cest dislocation     0.7859      0.796      0.988      0.323      -0.773       2.345\n",
            "====================================================================================\n"
          ]
        }
      ]
    },
    {
      "cell_type": "markdown",
      "source": [
        "**DeepL2023**"
      ],
      "metadata": {
        "id": "PbKTEhhEbvAs"
      }
    },
    {
      "cell_type": "code",
      "source": [
        "import pandas as pd\n",
        "import statsmodels.api as sm\n",
        "\n",
        "# load the Excel file into a Pandas dataframe\n",
        "df = pd.read_excel('DataS.xlsx')\n",
        "\n",
        "# convert the 'YES' and 'NO' values in 'cest dislocation' column to 1's and 0's\n",
        "df['cest dislocation'] = df['cest dislocation'].apply(lambda x: 1 if x == 'YES' else 0)\n",
        "\n",
        "# convert the 'copy' and 'no copy' values in 'DeepLAnalysis2023' column to 1's and 0's\n",
        "df['DeepLAnalysis2023'] = df['DeepLAnalysis2023'].apply(lambda x: 1 if x == 'copy' else 0)\n",
        "\n",
        "# fit a logistic regression model\n",
        "model = sm.Logit(df['DeepLAnalysis2023'], sm.add_constant(df[['cest dislocation']])).fit()\n",
        "\n",
        "# print the summary of the model\n",
        "print(model.summary())\n"
      ],
      "metadata": {
        "colab": {
          "base_uri": "https://localhost:8080/"
        },
        "id": "JgLP-umSbxeS",
        "outputId": "8389db4c-d895-41a6-a637-483b4314079a"
      },
      "execution_count": 17,
      "outputs": [
        {
          "output_type": "stream",
          "name": "stdout",
          "text": [
            "Optimization terminated successfully.\n",
            "         Current function value: 0.491362\n",
            "         Iterations 5\n",
            "                           Logit Regression Results                           \n",
            "==============================================================================\n",
            "Dep. Variable:      DeepLAnalysis2023   No. Observations:                  113\n",
            "Model:                          Logit   Df Residuals:                      111\n",
            "Method:                           MLE   Df Model:                            1\n",
            "Date:                Sat, 29 Apr 2023   Pseudo R-squ.:                0.003227\n",
            "Time:                        14:34:17   Log-Likelihood:                -55.524\n",
            "converged:                       True   LL-Null:                       -55.704\n",
            "Covariance Type:            nonrobust   LLR p-value:                    0.5488\n",
            "====================================================================================\n",
            "                       coef    std err          z      P>|z|      [0.025      0.975]\n",
            "------------------------------------------------------------------------------------\n",
            "const               -1.4586      0.248     -5.876      0.000      -1.945      -0.972\n",
            "cest dislocation     0.5423      0.873      0.621      0.534      -1.168       2.253\n",
            "====================================================================================\n"
          ]
        }
      ]
    },
    {
      "cell_type": "markdown",
      "source": [
        "**SystranAnalysis**"
      ],
      "metadata": {
        "id": "sXg_mPgDb7Uo"
      }
    },
    {
      "cell_type": "code",
      "source": [
        "import pandas as pd\n",
        "import statsmodels.api as sm\n",
        "\n",
        "# load the Excel file into a Pandas dataframe\n",
        "df = pd.read_excel('DataS.xlsx')\n",
        "\n",
        "# convert the 'YES' and 'NO' values in 'cest dislocation' column to 1's and 0's\n",
        "df['cest dislocation'] = df['cest dislocation'].apply(lambda x: 1 if x == 'YES' else 0)\n",
        "\n",
        "# convert the 'copy' and 'no copy' values in 'SystranAnalysis' column to 1's and 0's\n",
        "df['SystranAnalysis'] = df['SystranAnalysis'].apply(lambda x: 1 if x == 'copy' else 0)\n",
        "\n",
        "# fit a logistic regression model\n",
        "model = sm.Logit(df['SystranAnalysis'], sm.add_constant(df[['cest dislocation']])).fit()\n",
        "\n",
        "# print the summary of the model\n",
        "print(model.summary())\n"
      ],
      "metadata": {
        "colab": {
          "base_uri": "https://localhost:8080/"
        },
        "id": "X7L5kh3scClb",
        "outputId": "673ebf8c-2776-420e-95a3-ec04926fd291"
      },
      "execution_count": 18,
      "outputs": [
        {
          "output_type": "stream",
          "name": "stdout",
          "text": [
            "Optimization terminated successfully.\n",
            "         Current function value: 0.584281\n",
            "         Iterations 6\n",
            "                           Logit Regression Results                           \n",
            "==============================================================================\n",
            "Dep. Variable:        SystranAnalysis   No. Observations:                  113\n",
            "Model:                          Logit   Df Residuals:                      111\n",
            "Method:                           MLE   Df Model:                            1\n",
            "Date:                Sat, 29 Apr 2023   Pseudo R-squ.:                0.005521\n",
            "Time:                        14:35:27   Log-Likelihood:                -66.024\n",
            "converged:                       True   LL-Null:                       -66.390\n",
            "Covariance Type:            nonrobust   LLR p-value:                    0.3919\n",
            "====================================================================================\n",
            "                       coef    std err          z      P>|z|      [0.025      0.975]\n",
            "------------------------------------------------------------------------------------\n",
            "const               -0.9295      0.216     -4.311      0.000      -1.352      -0.507\n",
            "cest dislocation    -0.8622      1.101     -0.783      0.434      -3.021       1.297\n",
            "====================================================================================\n"
          ]
        }
      ]
    },
    {
      "cell_type": "markdown",
      "source": [
        "**MBARTANALYSIS**"
      ],
      "metadata": {
        "id": "JY25k3zxcMen"
      }
    },
    {
      "cell_type": "code",
      "source": [
        "import pandas as pd\n",
        "import statsmodels.api as sm\n",
        "\n",
        "# load the Excel file into a Pandas dataframe\n",
        "df = pd.read_excel('DataS.xlsx')\n",
        "\n",
        "# convert the 'YES' and 'NO' values in 'cest dislocation' column to 1's and 0's\n",
        "df['cest dislocation'] = df['cest dislocation'].apply(lambda x: 1 if x == 'YES' else 0)\n",
        "\n",
        "# convert the 'copy' and 'no copy' values in 'MBARTAnalysis' column to 1's and 0's\n",
        "df['MBARTANALYSIS'] = df['MBARTANALYSIS'].apply(lambda x: 1 if x == 'copy' else 0)\n",
        "\n",
        "# fit a logistic regression model\n",
        "model = sm.Logit(df['MBARTANALYSIS'], sm.add_constant(df[['cest dislocation']])).fit()\n",
        "\n",
        "# print the summary of the model\n",
        "print(model.summary())\n"
      ],
      "metadata": {
        "colab": {
          "base_uri": "https://localhost:8080/"
        },
        "id": "HasoQiEDcb_5",
        "outputId": "6681066f-5563-45a9-d2ff-ab94f7056e76"
      },
      "execution_count": 19,
      "outputs": [
        {
          "output_type": "stream",
          "name": "stdout",
          "text": [
            "Optimization terminated successfully.\n",
            "         Current function value: 0.625630\n",
            "         Iterations 5\n",
            "                           Logit Regression Results                           \n",
            "==============================================================================\n",
            "Dep. Variable:          MBARTANALYSIS   No. Observations:                  113\n",
            "Model:                          Logit   Df Residuals:                      111\n",
            "Method:                           MLE   Df Model:                            1\n",
            "Date:                Sat, 29 Apr 2023   Pseudo R-squ.:               0.0002674\n",
            "Time:                        14:36:59   Log-Likelihood:                -70.696\n",
            "converged:                       True   LL-Null:                       -70.715\n",
            "Covariance Type:            nonrobust   LLR p-value:                    0.8458\n",
            "====================================================================================\n",
            "                       coef    std err          z      P>|z|      [0.025      0.975]\n",
            "------------------------------------------------------------------------------------\n",
            "const               -0.7503      0.208     -3.606      0.000      -1.158      -0.342\n",
            "cest dislocation    -0.1660      0.862     -0.193      0.847      -1.856       1.524\n",
            "====================================================================================\n"
          ]
        }
      ]
    }
  ]
}