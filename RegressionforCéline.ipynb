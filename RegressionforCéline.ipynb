{
  "nbformat": 4,
  "nbformat_minor": 0,
  "metadata": {
    "colab": {
      "provenance": [],
      "authorship_tag": "ABX9TyPqJOifHBubYT1og8s1MsZA",
      "include_colab_link": true
    },
    "kernelspec": {
      "name": "python3",
      "display_name": "Python 3"
    },
    "language_info": {
      "name": "python"
    }
  },
  "cells": [
    {
      "cell_type": "markdown",
      "metadata": {
        "id": "view-in-github",
        "colab_type": "text"
      },
      "source": [
        "<a href=\"https://colab.research.google.com/github/Behnooshn/left-and-right-dislocations/blob/main/Regression.ipynb\" target=\"_parent\"><img src=\"https://colab.research.google.com/assets/colab-badge.svg\" alt=\"Open In Colab\"/></a>"
      ]
    },
    {
      "cell_type": "code",
      "execution_count": 1,
      "metadata": {
        "colab": {
          "base_uri": "https://localhost:8080/"
        },
        "id": "CeLw9iEn9kIH",
        "outputId": "2f1a5f05-cc2f-4619-f08f-a392b6041055"
      },
      "outputs": [
        {
          "output_type": "stream",
          "name": "stdout",
          "text": [
            "Looking in indexes: https://pypi.org/simple, https://us-python.pkg.dev/colab-wheels/public/simple/\n",
            "Requirement already satisfied: pandas in /usr/local/lib/python3.10/dist-packages (1.5.3)\n",
            "Requirement already satisfied: numpy>=1.21.0 in /usr/local/lib/python3.10/dist-packages (from pandas) (1.22.4)\n",
            "Requirement already satisfied: python-dateutil>=2.8.1 in /usr/local/lib/python3.10/dist-packages (from pandas) (2.8.2)\n",
            "Requirement already satisfied: pytz>=2020.1 in /usr/local/lib/python3.10/dist-packages (from pandas) (2022.7.1)\n",
            "Requirement already satisfied: six>=1.5 in /usr/local/lib/python3.10/dist-packages (from python-dateutil>=2.8.1->pandas) (1.16.0)\n"
          ]
        }
      ],
      "source": [
        "pip install pandas\n"
      ]
    },
    {
      "cell_type": "markdown",
      "source": [
        "**Google2022**"
      ],
      "metadata": {
        "id": "D3yGJ5qiNMMR"
      }
    },
    {
      "cell_type": "code",
      "source": [
        "import pandas as pd\n",
        "import statsmodels.api as sm\n",
        "\n",
        "# load the Excel file into a Pandas dataframe\n",
        "df = pd.read_excel('DataC.xlsx')\n",
        "\n",
        "# convert the 'YES' and 'NO' values in 'cest dislocation' column to 1's and 0's\n",
        "df['cest dislocation'] = df['cest dislocation'].apply(lambda x: 1 if x == 'YES' else 0)\n",
        "\n",
        "# convert the 'copy' and 'no copy' values in 'GoogleAnalysis2022' column to 1's and 0's\n",
        "df['GoogleAnalysis2022'] = df['GoogleAnalysis2022'].apply(lambda x: 1 if x == 'copy' else 0)\n",
        "\n",
        "# fit a logistic regression model\n",
        "model = sm.Logit(df['GoogleAnalysis2022'], sm.add_constant(df[['cest dislocation']])).fit()\n",
        "\n",
        "# print the summary of the model\n",
        "print(model.summary())\n"
      ],
      "metadata": {
        "colab": {
          "base_uri": "https://localhost:8080/"
        },
        "id": "iTXxPPYZF4w0",
        "outputId": "065c9224-c0a1-45f7-c7e1-36783f0a6c4a"
      },
      "execution_count": 27,
      "outputs": [
        {
          "output_type": "stream",
          "name": "stdout",
          "text": [
            "Optimization terminated successfully.\n",
            "         Current function value: 0.526246\n",
            "         Iterations 5\n",
            "                           Logit Regression Results                           \n",
            "==============================================================================\n",
            "Dep. Variable:     GoogleAnalysis2022   No. Observations:                  177\n",
            "Model:                          Logit   Df Residuals:                      175\n",
            "Method:                           MLE   Df Model:                            1\n",
            "Date:                Sat, 29 Apr 2023   Pseudo R-squ.:                0.002068\n",
            "Time:                        12:58:18   Log-Likelihood:                -93.146\n",
            "converged:                       True   LL-Null:                       -93.339\n",
            "Covariance Type:            nonrobust   LLR p-value:                    0.5344\n",
            "====================================================================================\n",
            "                       coef    std err          z      P>|z|      [0.025      0.975]\n",
            "------------------------------------------------------------------------------------\n",
            "const               -1.3622      0.245     -5.570      0.000      -1.842      -0.883\n",
            "cest dislocation     0.2272      0.365      0.623      0.534      -0.488       0.943\n",
            "====================================================================================\n"
          ]
        }
      ]
    },
    {
      "cell_type": "markdown",
      "source": [
        "**Google2023**"
      ],
      "metadata": {
        "id": "UJdDb4QqNKtx"
      }
    },
    {
      "cell_type": "code",
      "source": [
        "import pandas as pd\n",
        "import statsmodels.api as sm\n",
        "\n",
        "# load the Excel file into a Pandas dataframe\n",
        "df = pd.read_excel('DataC.xlsx')\n",
        "\n",
        "# convert the 'YES' and 'NO' values in 'cest dislocation' column to 1's and 0's\n",
        "df['cest dislocation'] = df['cest dislocation'].apply(lambda x: 1 if x == 'YES' else 0)\n",
        "\n",
        "# convert the 'copy' and 'no copy' values in 'GoogleAnalysis2023' column to 1's and 0's\n",
        "df['GoogleAnalysis2023'] = df['GoogleAnalysis2023'].apply(lambda x: 1 if x == 'copy' else 0)\n",
        "\n",
        "# fit a logistic regression model\n",
        "model = sm.Logit(df['GoogleAnalysis2023'], sm.add_constant(df[['cest dislocation']])).fit()\n",
        "\n",
        "# print the summary of the model\n",
        "print(model.summary())\n"
      ],
      "metadata": {
        "colab": {
          "base_uri": "https://localhost:8080/"
        },
        "id": "d3_YkNCDQCOW",
        "outputId": "70386e45-9de9-48c1-ec0b-13e80484a348"
      },
      "execution_count": 33,
      "outputs": [
        {
          "output_type": "stream",
          "name": "stdout",
          "text": [
            "Optimization terminated successfully.\n",
            "         Current function value: 0.453958\n",
            "         Iterations 6\n",
            "                           Logit Regression Results                           \n",
            "==============================================================================\n",
            "Dep. Variable:     GoogleAnalysis2023   No. Observations:                  177\n",
            "Model:                          Logit   Df Residuals:                      175\n",
            "Method:                           MLE   Df Model:                            1\n",
            "Date:                Sat, 29 Apr 2023   Pseudo R-squ.:                0.002463\n",
            "Time:                        13:42:33   Log-Likelihood:                -80.351\n",
            "converged:                       True   LL-Null:                       -80.549\n",
            "Covariance Type:            nonrobust   LLR p-value:                    0.5288\n",
            "====================================================================================\n",
            "                       coef    std err          z      P>|z|      [0.025      0.975]\n",
            "------------------------------------------------------------------------------------\n",
            "const               -1.4864      0.254     -5.851      0.000      -1.984      -0.988\n",
            "cest dislocation    -0.2589      0.414     -0.625      0.532      -1.070       0.552\n",
            "====================================================================================\n"
          ]
        }
      ]
    },
    {
      "cell_type": "markdown",
      "source": [
        "**DeepL2022**"
      ],
      "metadata": {
        "id": "PfJt4ghbQU9X"
      }
    },
    {
      "cell_type": "code",
      "source": [
        "import pandas as pd\n",
        "import statsmodels.api as sm\n",
        "\n",
        "# load the Excel file into a Pandas dataframe\n",
        "df = pd.read_excel('DataC.xlsx')\n",
        "\n",
        "# convert the 'YES' and 'NO' values in 'cest dislocation' column to 1's and 0's\n",
        "df['cest dislocation'] = df['cest dislocation'].apply(lambda x: 1 if x == 'YES' else 0)\n",
        "\n",
        "# convert the 'copy' and 'no copy' values in 'DeepLAnalysis2022' column to 1's and 0's\n",
        "df['DeepLAnalysis2022'] = df['DeepLAnalysis2022'].apply(lambda x: 1 if x == 'copy' else 0)\n",
        "\n",
        "# fit a logistic regression model\n",
        "model = sm.Logit(df['DeepLAnalysis2022'], sm.add_constant(df[['cest dislocation']])).fit()\n",
        "\n",
        "# print the summary of the model\n",
        "print(model.summary())\n"
      ],
      "metadata": {
        "colab": {
          "base_uri": "https://localhost:8080/"
        },
        "id": "8uSTCN-CQba2",
        "outputId": "0a3a695f-4f35-46a6-882b-1a72ec661428"
      },
      "execution_count": 34,
      "outputs": [
        {
          "output_type": "stream",
          "name": "stdout",
          "text": [
            "Optimization terminated successfully.\n",
            "         Current function value: 0.472420\n",
            "         Iterations 5\n",
            "                           Logit Regression Results                           \n",
            "==============================================================================\n",
            "Dep. Variable:      DeepLAnalysis2022   No. Observations:                  177\n",
            "Model:                          Logit   Df Residuals:                      175\n",
            "Method:                           MLE   Df Model:                            1\n",
            "Date:                Sat, 29 Apr 2023   Pseudo R-squ.:               0.0003608\n",
            "Time:                        13:44:41   Log-Likelihood:                -83.618\n",
            "converged:                       True   LL-Null:                       -83.649\n",
            "Covariance Type:            nonrobust   LLR p-value:                    0.8059\n",
            "====================================================================================\n",
            "                       coef    std err          z      P>|z|      [0.025      0.975]\n",
            "------------------------------------------------------------------------------------\n",
            "const               -1.5523      0.259     -5.983      0.000      -2.061      -1.044\n",
            "cest dislocation     0.0970      0.394      0.246      0.806      -0.676       0.870\n",
            "====================================================================================\n"
          ]
        }
      ]
    },
    {
      "cell_type": "markdown",
      "source": [
        "**DeepL2023**"
      ],
      "metadata": {
        "id": "pXtw9aEUQqJJ"
      }
    },
    {
      "cell_type": "code",
      "source": [
        "import pandas as pd\n",
        "import statsmodels.api as sm\n",
        "\n",
        "# load the Excel file into a Pandas dataframe\n",
        "df = pd.read_excel('DataC.xlsx')\n",
        "\n",
        "# convert the 'YES' and 'NO' values in 'cest dislocation' column to 1's and 0's\n",
        "df['cest dislocation'] = df['cest dislocation'].apply(lambda x: 1 if x == 'YES' else 0)\n",
        "\n",
        "# convert the 'copy' and 'no copy' values in 'DeepLAnalysis2023' column to 1's and 0's\n",
        "df['DeepLAnalysis2023'] = df['DeepLAnalysis2023'].apply(lambda x: 1 if x == 'copy' else 0)\n",
        "\n",
        "# fit a logistic regression model\n",
        "model = sm.Logit(df['DeepLAnalysis2023'], sm.add_constant(df[['cest dislocation']])).fit()\n",
        "\n",
        "# print the summary of the model\n",
        "print(model.summary())\n"
      ],
      "metadata": {
        "colab": {
          "base_uri": "https://localhost:8080/"
        },
        "id": "RGa0jZsnQsmX",
        "outputId": "f3139bf0-59f6-430a-d49c-a5302cf361d7"
      },
      "execution_count": 35,
      "outputs": [
        {
          "output_type": "stream",
          "name": "stdout",
          "text": [
            "Optimization terminated successfully.\n",
            "         Current function value: 0.374518\n",
            "         Iterations 6\n",
            "                           Logit Regression Results                           \n",
            "==============================================================================\n",
            "Dep. Variable:      DeepLAnalysis2023   No. Observations:                  177\n",
            "Model:                          Logit   Df Residuals:                      175\n",
            "Method:                           MLE   Df Model:                            1\n",
            "Date:                Sat, 29 Apr 2023   Pseudo R-squ.:                0.002332\n",
            "Time:                        13:45:29   Log-Likelihood:                -66.290\n",
            "converged:                       True   LL-Null:                       -66.445\n",
            "Covariance Type:            nonrobust   LLR p-value:                    0.5777\n",
            "====================================================================================\n",
            "                       coef    std err          z      P>|z|      [0.025      0.975]\n",
            "------------------------------------------------------------------------------------\n",
            "const               -1.8496      0.288     -6.433      0.000      -2.413      -1.286\n",
            "cest dislocation    -0.2606      0.472     -0.552      0.581      -1.186       0.665\n",
            "====================================================================================\n"
          ]
        }
      ]
    },
    {
      "cell_type": "markdown",
      "source": [
        "**SystranAnalysis**"
      ],
      "metadata": {
        "id": "ZKXjsGEbQ-x2"
      }
    },
    {
      "cell_type": "code",
      "source": [
        "import pandas as pd\n",
        "import statsmodels.api as sm\n",
        "\n",
        "# load the Excel file into a Pandas dataframe\n",
        "df = pd.read_excel('DataC.xlsx')\n",
        "\n",
        "# convert the 'YES' and 'NO' values in 'cest dislocation' column to 1's and 0's\n",
        "df['cest dislocation'] = df['cest dislocation'].apply(lambda x: 1 if x == 'YES' else 0)\n",
        "\n",
        "# convert the 'copy' and 'no copy' values in 'SystranAnalysis' column to 1's and 0's\n",
        "df['SystranAnalysis'] = df['SystranAnalysis'].apply(lambda x: 1 if x == 'copy' else 0)\n",
        "\n",
        "# fit a logistic regression model\n",
        "model = sm.Logit(df['SystranAnalysis'], sm.add_constant(df[['cest dislocation']])).fit()\n",
        "\n",
        "# print the summary of the model\n",
        "print(model.summary())\n"
      ],
      "metadata": {
        "colab": {
          "base_uri": "https://localhost:8080/"
        },
        "id": "uDGsVRvTRAqz",
        "outputId": "da8aabcc-e211-40d5-f755-8c82a3aba3bd"
      },
      "execution_count": 36,
      "outputs": [
        {
          "output_type": "stream",
          "name": "stdout",
          "text": [
            "Optimization terminated successfully.\n",
            "         Current function value: 0.394518\n",
            "         Iterations 6\n",
            "                           Logit Regression Results                           \n",
            "==============================================================================\n",
            "Dep. Variable:        SystranAnalysis   No. Observations:                  177\n",
            "Model:                          Logit   Df Residuals:                      175\n",
            "Method:                           MLE   Df Model:                            1\n",
            "Date:                Sat, 29 Apr 2023   Pseudo R-squ.:                0.005957\n",
            "Time:                        13:46:57   Log-Likelihood:                -69.830\n",
            "converged:                       True   LL-Null:                       -70.248\n",
            "Covariance Type:            nonrobust   LLR p-value:                    0.3603\n",
            "====================================================================================\n",
            "                       coef    std err          z      P>|z|      [0.025      0.975]\n",
            "------------------------------------------------------------------------------------\n",
            "const               -1.6933      0.272     -6.225      0.000      -2.226      -1.160\n",
            "cest dislocation    -0.4169      0.463     -0.901      0.368      -1.324       0.490\n",
            "====================================================================================\n"
          ]
        }
      ]
    },
    {
      "cell_type": "markdown",
      "source": [
        "**MBARTANALYSIS**"
      ],
      "metadata": {
        "id": "GJzqZNvVRLhu"
      }
    },
    {
      "cell_type": "code",
      "source": [
        "import pandas as pd\n",
        "import statsmodels.api as sm\n",
        "\n",
        "# load the Excel file into a Pandas dataframe\n",
        "df = pd.read_excel('DataC.xlsx')\n",
        "\n",
        "# convert the 'YES' and 'NO' values in 'cest dislocation' column to 1's and 0's\n",
        "df['cest dislocation'] = df['cest dislocation'].apply(lambda x: 1 if x == 'YES' else 0)\n",
        "\n",
        "# convert the 'copy' and 'no copy' values in 'MBARTAnalysis' column to 1's and 0's\n",
        "df['MBARTANALYSIS'] = df['MBARTANALYSIS'].apply(lambda x: 1 if x == 'copy' else 0)\n",
        "\n",
        "# fit a logistic regression model\n",
        "model = sm.Logit(df['MBARTANALYSIS'], sm.add_constant(df[['cest dislocation']])).fit()\n",
        "\n",
        "# print the summary of the model\n",
        "print(model.summary())\n"
      ],
      "metadata": {
        "colab": {
          "base_uri": "https://localhost:8080/"
        },
        "id": "0qq8Op8jRPbC",
        "outputId": "bece74fc-db5d-4d10-f751-c8dcf976bc6b"
      },
      "execution_count": 39,
      "outputs": [
        {
          "output_type": "stream",
          "name": "stdout",
          "text": [
            "Optimization terminated successfully.\n",
            "         Current function value: 0.555720\n",
            "         Iterations 6\n",
            "                           Logit Regression Results                           \n",
            "==============================================================================\n",
            "Dep. Variable:          MBARTANALYSIS   No. Observations:                  177\n",
            "Model:                          Logit   Df Residuals:                      175\n",
            "Method:                           MLE   Df Model:                            1\n",
            "Date:                Sat, 29 Apr 2023   Pseudo R-squ.:                 0.04913\n",
            "Time:                        13:48:50   Log-Likelihood:                -98.362\n",
            "converged:                       True   LL-Null:                       -103.45\n",
            "Covariance Type:            nonrobust   LLR p-value:                  0.001431\n",
            "====================================================================================\n",
            "                       coef    std err          z      P>|z|      [0.025      0.975]\n",
            "------------------------------------------------------------------------------------\n",
            "const               -0.5787      0.205     -2.818      0.005      -0.981      -0.176\n",
            "cest dislocation    -1.1665      0.386     -3.022      0.003      -1.923      -0.410\n",
            "====================================================================================\n"
          ]
        }
      ]
    }
  ]
}
